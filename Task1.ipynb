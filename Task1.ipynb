{
 "cells": [
  {
   "cell_type": "code",
   "execution_count": 5,
   "id": "b1b47d8d",
   "metadata": {},
   "outputs": [],
   "source": [
    "class safe:\n",
    "    user_name=0\n",
    "    passw=0\n",
    "    c1=2\n",
    "    c2=2\n",
    "    def __init__(self):\n",
    "        LorR=input('Do you want to login or register? ')\n",
    "        if LorR=='login':\n",
    "            self.login_user()\n",
    "        elif LorR=='register':\n",
    "            self.register()\n",
    "    def login_user(self):\n",
    "        temp=input('Please enter the user name')\n",
    "        if temp==safe.user_name:\n",
    "            self.login_pass()\n",
    "            \n",
    "        else:\n",
    "            if safe.c1!=0:\n",
    "                print('Wrong user name you have {} tries left'.format(safe.c1))\n",
    "                safe.c1=safe.c1-1\n",
    "                self.login_user()\n",
    "    def login_pass(self):\n",
    "        temp=input('Please enter the password')\n",
    "        if temp==safe.passw:\n",
    "            print('Opened')\n",
    "           \n",
    "        else:\n",
    "            if safe.c2!=0:\n",
    "                print('Wrong passowrd you have {} tries left'.format(safe.c2))\n",
    "                safe.c2=safe.c2-1\n",
    "                self.login_pass()\n",
    "              \n",
    "    def register(self):\n",
    "        safe.user_name=input('Please enter the user name')\n",
    "        safe.passw=input('Please enter the password')\n",
    "        temp=input('Please re-enter the password')\n",
    "        if safe.passw==temp:\n",
    "            print('Password created')\n",
    "        else:\n",
    "            self.register()"
   ]
  },
  {
   "cell_type": "code",
   "execution_count": null,
   "id": "d3ca44bd",
   "metadata": {},
   "outputs": [],
   "source": [
    "x=safe()"
   ]
  },
  {
   "cell_type": "code",
   "execution_count": null,
   "id": "4fb55319",
   "metadata": {},
   "outputs": [],
   "source": [
    "x.login_user()"
   ]
  },
  {
   "cell_type": "code",
   "execution_count": null,
   "id": "f472732e",
   "metadata": {},
   "outputs": [],
   "source": []
  },
  {
   "cell_type": "code",
   "execution_count": null,
   "id": "2ffc1667",
   "metadata": {},
   "outputs": [],
   "source": []
  }
 ],
 "metadata": {
  "kernelspec": {
   "display_name": "Python 3 (ipykernel)",
   "language": "python",
   "name": "python3"
  },
  "language_info": {
   "codemirror_mode": {
    "name": "ipython",
    "version": 3
   },
   "file_extension": ".py",
   "mimetype": "text/x-python",
   "name": "python",
   "nbconvert_exporter": "python",
   "pygments_lexer": "ipython3",
   "version": "3.9.12"
  }
 },
 "nbformat": 4,
 "nbformat_minor": 5
}
